{
  "nbformat": 4,
  "nbformat_minor": 0,
  "metadata": {
    "colab": {
      "name": "m20201007",
      "provenance": [],
      "collapsed_sections": [],
      "authorship_tag": "ABX9TyMvwKnBhxL6jsgJfHPqEZBE",
      "include_colab_link": true
    },
    "kernelspec": {
      "name": "python3",
      "display_name": "Python 3"
    }
  },
  "cells": [
    {
      "cell_type": "markdown",
      "metadata": {
        "id": "view-in-github",
        "colab_type": "text"
      },
      "source": [
        "<a href=\"https://colab.research.google.com/github/zxrxuanrong/4050E024/blob/master/m20201007.ipynb\" target=\"_parent\"><img src=\"https://colab.research.google.com/assets/colab-badge.svg\" alt=\"Open In Colab\"/></a>"
      ]
    },
    {
      "cell_type": "code",
      "metadata": {
        "id": "Hm3xObEMRDkU",
        "outputId": "8632c3d0-a6f2-46bb-ce25-d77be82c4800",
        "colab": {
          "base_uri": "https://localhost:8080/"
        }
      },
      "source": [
        "! https://github.com/tensorflow/examples/blob/master/lite/examples/image_classification/raspberry_pi/README.md"
      ],
      "execution_count": null,
      "outputs": [
        {
          "output_type": "stream",
          "text": [
            "/bin/bash: https://github.com/tensorflow/examples/blob/master/lite/examples/image_classification/raspberry_pi/README.md: No such file or directory\n"
          ],
          "name": "stdout"
        }
      ]
    },
    {
      "cell_type": "code",
      "metadata": {
        "id": "aVop22dPUJk9",
        "outputId": "1b03fa09-81ac-46c8-a711-6e6b8b14f7bf",
        "colab": {
          "base_uri": "https://localhost:8080/"
        }
      },
      "source": [
        "!git clone https://github.com/tensorflow/examples --depth 1"
      ],
      "execution_count": null,
      "outputs": [
        {
          "output_type": "stream",
          "text": [
            "Cloning into 'examples'...\n",
            "remote: Enumerating objects: 1861, done.\u001b[K\n",
            "remote: Counting objects: 100% (1861/1861), done.\u001b[K\n",
            "remote: Compressing objects: 100% (1170/1170), done.\u001b[K\n",
            "remote: Total 1861 (delta 529), reused 1467 (delta 405), pack-reused 0\u001b[K\n",
            "Receiving objects: 100% (1861/1861), 12.24 MiB | 32.99 MiB/s, done.\n",
            "Resolving deltas: 100% (529/529), done.\n"
          ],
          "name": "stdout"
        }
      ]
    },
    {
      "cell_type": "code",
      "metadata": {
        "id": "exhXJjjWUeXB",
        "outputId": "0ee98249-7a58-444d-d316-44ea0e356fcb",
        "colab": {
          "base_uri": "https://localhost:8080/"
        }
      },
      "source": [
        "!https://github.com/MyDearGreatTeacher/AI_and_security_2020"
      ],
      "execution_count": null,
      "outputs": [
        {
          "output_type": "stream",
          "text": [
            "/bin/bash: https://github.com/MyDearGreatTeacher/AI_and_security_2020: No such file or directory\n"
          ],
          "name": "stdout"
        }
      ]
    },
    {
      "cell_type": "code",
      "metadata": {
        "id": "71o63KwnUnc_",
        "outputId": "65bdef15-968c-416a-ab18-e4c587ebc733",
        "colab": {
          "base_uri": "https://localhost:8080/"
        }
      },
      "source": [
        "!https://github.com/MyDearGreatTeacher/AI_and_security_2020/blob/master/20200921.md"
      ],
      "execution_count": null,
      "outputs": [
        {
          "output_type": "stream",
          "text": [
            "/bin/bash: https://github.com/MyDearGreatTeacher/AI_and_security_2020/blob/master/20200921.md: No such file or directory\n"
          ],
          "name": "stdout"
        }
      ]
    },
    {
      "cell_type": "code",
      "metadata": {
        "id": "sttW9ruKdmV1",
        "outputId": "c07ffc4f-cb14-48de-caad-06090f787fd3",
        "colab": {
          "base_uri": "https://localhost:8080/"
        }
      },
      "source": [
        "import numpy as np\n",
        "\n",
        "s = np.random.uniform(0,1,10) \n",
        "s"
      ],
      "execution_count": null,
      "outputs": [
        {
          "output_type": "execute_result",
          "data": {
            "text/plain": [
              "array([0.32800946, 0.82922164, 0.36563003, 0.35622077, 0.34659002,\n",
              "       0.65228608, 0.5908512 , 0.27972726, 0.9996838 , 0.04499727])"
            ]
          },
          "metadata": {
            "tags": []
          },
          "execution_count": 13
        }
      ]
    },
    {
      "cell_type": "code",
      "metadata": {
        "id": "qiKbXNJWiwty",
        "outputId": "405b5e80-a627-4c04-f0ad-fedb99cd8014",
        "colab": {
          "base_uri": "https://localhost:8080/"
        }
      },
      "source": [
        "np.ones(10)*10+1-2"
      ],
      "execution_count": 18,
      "outputs": [
        {
          "output_type": "execute_result",
          "data": {
            "text/plain": [
              "array([9., 9., 9., 9., 9., 9., 9., 9., 9., 9.])"
            ]
          },
          "metadata": {
            "tags": []
          },
          "execution_count": 18
        }
      ]
    },
    {
      "cell_type": "code",
      "metadata": {
        "id": "HpSec_QWjuZe",
        "outputId": "5a6344cb-5b95-4938-e793-cbb9dc17388d",
        "colab": {
          "base_uri": "https://localhost:8080/"
        }
      },
      "source": [
        "np.arange(15)"
      ],
      "execution_count": 19,
      "outputs": [
        {
          "output_type": "execute_result",
          "data": {
            "text/plain": [
              "array([ 0,  1,  2,  3,  4,  5,  6,  7,  8,  9, 10, 11, 12, 13, 14])"
            ]
          },
          "metadata": {
            "tags": []
          },
          "execution_count": 19
        }
      ]
    },
    {
      "cell_type": "code",
      "metadata": {
        "id": "ukVxAdR_j--I",
        "outputId": "3ba1480c-7bf8-4802-88cb-b0cc9b75e188",
        "colab": {
          "base_uri": "https://localhost:8080/",
          "height": 131
        }
      },
      "source": [
        "\n",
        "import numpy as np\n",
        " \n",
        "arr1=np.ones((3,3))\n",
        "arr2=np.array(arr1)\n",
        "arr3=np.asarray(arr1)\n",
        "arr1[1]=2\n",
        "data1[1][1]=2\n",
        "data1\n",
        "arr3\n"
      ],
      "execution_count": 44,
      "outputs": [
        {
          "output_type": "error",
          "ename": "SyntaxError",
          "evalue": "ignored",
          "traceback": [
            "\u001b[0;36m  File \u001b[0;32m\"<ipython-input-44-49c5fb08aa27>\"\u001b[0;36m, line \u001b[0;32m11\u001b[0m\n\u001b[0;31m    print arr3\u001b[0m\n\u001b[0m             ^\u001b[0m\n\u001b[0;31mSyntaxError\u001b[0m\u001b[0;31m:\u001b[0m Missing parentheses in call to 'print'. Did you mean print(arr3)?\n"
          ]
        }
      ]
    },
    {
      "cell_type": "code",
      "metadata": {
        "id": "ELSuZveimi9m",
        "outputId": "3a795026-c4e8-4e3b-dc23-856ebb5b1d98",
        "colab": {
          "base_uri": "https://localhost:8080/"
        }
      },
      "source": [
        "ar9=np.eye(3);\n",
        "ar9"
      ],
      "execution_count": 46,
      "outputs": [
        {
          "output_type": "execute_result",
          "data": {
            "text/plain": [
              "array([[1., 0., 0.],\n",
              "       [0., 1., 0.],\n",
              "       [0., 0., 1.]])"
            ]
          },
          "metadata": {
            "tags": []
          },
          "execution_count": 46
        }
      ]
    },
    {
      "cell_type": "code",
      "metadata": {
        "id": "Vv2SCeAmnRLZ",
        "outputId": "3d91b41d-afd4-4690-e7af-af345e3c5220",
        "colab": {
          "base_uri": "https://localhost:8080/"
        }
      },
      "source": [
        "ar10=np.diag((2,1,4,6));\n",
        "ar10"
      ],
      "execution_count": 47,
      "outputs": [
        {
          "output_type": "execute_result",
          "data": {
            "text/plain": [
              "array([[2, 0, 0, 0],\n",
              "       [0, 1, 0, 0],\n",
              "       [0, 0, 4, 0],\n",
              "       [0, 0, 0, 6]])"
            ]
          },
          "metadata": {
            "tags": []
          },
          "execution_count": 47
        }
      ]
    },
    {
      "cell_type": "code",
      "metadata": {
        "id": "yCHo9TmHnhk-",
        "outputId": "c41cfa47-4ad7-4858-bd72-6077ac417163",
        "colab": {
          "base_uri": "https://localhost:8080/"
        }
      },
      "source": [
        "import numpy as np\n",
        "np.array([range(i,i+5)for i in[2,4,6]])"
      ],
      "execution_count": 50,
      "outputs": [
        {
          "output_type": "execute_result",
          "data": {
            "text/plain": [
              "array([[ 2,  3,  4,  5,  6],\n",
              "       [ 4,  5,  6,  7,  8],\n",
              "       [ 6,  7,  8,  9, 10]])"
            ]
          },
          "metadata": {
            "tags": []
          },
          "execution_count": 50
        }
      ]
    },
    {
      "cell_type": "code",
      "metadata": {
        "id": "KM9eV7fzoDbi",
        "outputId": "823e47fd-28f4-48c3-8f0d-013c172a3586",
        "colab": {
          "base_uri": "https://localhost:8080/"
        }
      },
      "source": [
        "np.tile(np.array([[1,2],[6,7]]),4)"
      ],
      "execution_count": 53,
      "outputs": [
        {
          "output_type": "execute_result",
          "data": {
            "text/plain": [
              "array([[1, 2, 1, 2, 1, 2, 1, 2],\n",
              "       [6, 7, 6, 7, 6, 7, 6, 7]])"
            ]
          },
          "metadata": {
            "tags": []
          },
          "execution_count": 53
        }
      ]
    },
    {
      "cell_type": "code",
      "metadata": {
        "id": "i8eVrfEnocLf",
        "outputId": "ded5c611-a322-40e1-830f-cf28210d9696",
        "colab": {
          "base_uri": "https://localhost:8080/"
        }
      },
      "source": [
        "np.tile(np.array([[1,2],[6,7]]),[3,3])"
      ],
      "execution_count": 56,
      "outputs": [
        {
          "output_type": "execute_result",
          "data": {
            "text/plain": [
              "array([[1, 2, 1, 2, 1, 2],\n",
              "       [6, 7, 6, 7, 6, 7],\n",
              "       [1, 2, 1, 2, 1, 2],\n",
              "       [6, 7, 6, 7, 6, 7],\n",
              "       [1, 2, 1, 2, 1, 2],\n",
              "       [6, 7, 6, 7, 6, 7]])"
            ]
          },
          "metadata": {
            "tags": []
          },
          "execution_count": 56
        }
      ]
    },
    {
      "cell_type": "code",
      "metadata": {
        "id": "SEjyGxx5oz3a",
        "outputId": "3adde43b-d49e-4b7a-c08d-0478dd642b86",
        "colab": {
          "base_uri": "https://localhost:8080/"
        }
      },
      "source": [
        "x = np.arange(2,10).reshape(2,4)\n",
        "x\n"
      ],
      "execution_count": 57,
      "outputs": [
        {
          "output_type": "execute_result",
          "data": {
            "text/plain": [
              "array([[2, 3, 4, 5],\n",
              "       [6, 7, 8, 9]])"
            ]
          },
          "metadata": {
            "tags": []
          },
          "execution_count": 57
        }
      ]
    },
    {
      "cell_type": "code",
      "metadata": {
        "id": "fCqhH2uKpR-K",
        "outputId": "5d670830-612e-4c1e-ad48-5522ae841883",
        "colab": {
          "base_uri": "https://localhost:8080/"
        }
      },
      "source": [
        "y = np.arange(2,10).reshape(4,2)\n",
        "y\n"
      ],
      "execution_count": 58,
      "outputs": [
        {
          "output_type": "execute_result",
          "data": {
            "text/plain": [
              "array([[2, 3],\n",
              "       [4, 5],\n",
              "       [6, 7],\n",
              "       [8, 9]])"
            ]
          },
          "metadata": {
            "tags": []
          },
          "execution_count": 58
        }
      ]
    },
    {
      "cell_type": "code",
      "metadata": {
        "id": "YHTAytEVpaHL",
        "outputId": "0d09b529-55e9-4a53-f432-a0a56f29db81",
        "colab": {
          "base_uri": "https://localhost:8080/"
        }
      },
      "source": [
        "ar=np.array([np.arange(1,6),np.arange(10,15)]);\n",
        "ar"
      ],
      "execution_count": 60,
      "outputs": [
        {
          "output_type": "execute_result",
          "data": {
            "text/plain": [
              "array([[ 1,  2,  3,  4,  5],\n",
              "       [10, 11, 12, 13, 14]])"
            ]
          },
          "metadata": {
            "tags": []
          },
          "execution_count": 60
        }
      ]
    }
  ]
}